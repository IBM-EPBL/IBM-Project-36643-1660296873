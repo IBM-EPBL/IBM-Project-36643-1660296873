{
 "cells": [
  {
   "cell_type": "code",
   "execution_count": null,
   "id": "07d68271",
   "metadata": {},
   "outputs": [],
   "source": []
  },
  {
   "cell_type": "code",
   "execution_count": 72,
   "id": "2c1346f8",
   "metadata": {},
   "outputs": [
    {
     "name": "stdout",
     "output_type": "stream",
     "text": [
      "Requirement already satisfied: pandas in f:\\anaconda ml\\lib\\site-packages (1.2.4)\n",
      "Requirement already satisfied: pytz>=2017.3 in f:\\anaconda ml\\lib\\site-packages (from pandas) (2021.1)\n",
      "Requirement already satisfied: python-dateutil>=2.7.3 in f:\\anaconda ml\\lib\\site-packages (from pandas) (2.8.1)\n",
      "Requirement already satisfied: numpy>=1.16.5 in f:\\anaconda ml\\lib\\site-packages (from pandas) (1.20.1)\n",
      "Requirement already satisfied: six>=1.5 in f:\\anaconda ml\\lib\\site-packages (from python-dateutil>=2.7.3->pandas) (1.15.0)\n"
     ]
    }
   ],
   "source": [
    "!pip install pandas\n",
    "import pandas as pd"
   ]
  },
  {
   "cell_type": "code",
   "execution_count": 73,
   "id": "3b5cf168",
   "metadata": {},
   "outputs": [],
   "source": [
    "import numpy as np"
   ]
  },
  {
   "cell_type": "code",
   "execution_count": 74,
   "id": "98ad6245",
   "metadata": {},
   "outputs": [],
   "source": [
    "import matplotlib.pyplot as plt"
   ]
  },
  {
   "cell_type": "code",
   "execution_count": 75,
   "id": "d131297f",
   "metadata": {},
   "outputs": [
    {
     "name": "stdout",
     "output_type": "stream",
     "text": [
      "Requirement already satisfied: tensorflow in f:\\anaconda ml\\lib\\site-packages (2.10.0)\n",
      "Requirement already satisfied: absl-py>=1.0.0 in f:\\anaconda ml\\lib\\site-packages (from tensorflow) (1.3.0)\n",
      "Requirement already satisfied: libclang>=13.0.0 in f:\\anaconda ml\\lib\\site-packages (from tensorflow) (14.0.6)\n",
      "Requirement already satisfied: keras-preprocessing>=1.1.1 in f:\\anaconda ml\\lib\\site-packages (from tensorflow) (1.1.2)\n",
      "Requirement already satisfied: numpy>=1.20 in f:\\anaconda ml\\lib\\site-packages (from tensorflow) (1.20.1)\n",
      "Requirement already satisfied: tensorflow-estimator<2.11,>=2.10.0 in f:\\anaconda ml\\lib\\site-packages (from tensorflow) (2.10.0)\n",
      "Requirement already satisfied: tensorflow-io-gcs-filesystem>=0.23.1 in f:\\anaconda ml\\lib\\site-packages (from tensorflow) (0.27.0)\n",
      "Requirement already satisfied: gast<=0.4.0,>=0.2.1 in f:\\anaconda ml\\lib\\site-packages (from tensorflow) (0.4.0)\n",
      "Requirement already satisfied: typing-extensions>=3.6.6 in f:\\anaconda ml\\lib\\site-packages (from tensorflow) (3.7.4.3)\n",
      "Requirement already satisfied: protobuf<3.20,>=3.9.2 in f:\\anaconda ml\\lib\\site-packages (from tensorflow) (3.19.6)\n",
      "Requirement already satisfied: wrapt>=1.11.0 in f:\\anaconda ml\\lib\\site-packages (from tensorflow) (1.12.1)\n",
      "Requirement already satisfied: tensorboard<2.11,>=2.10 in f:\\anaconda ml\\lib\\site-packages (from tensorflow) (2.10.1)\n",
      "Requirement already satisfied: setuptools in f:\\anaconda ml\\lib\\site-packages (from tensorflow) (52.0.0.post20210125)\n",
      "Requirement already satisfied: h5py>=2.9.0 in f:\\anaconda ml\\lib\\site-packages (from tensorflow) (2.10.0)\n",
      "Requirement already satisfied: opt-einsum>=2.3.2 in f:\\anaconda ml\\lib\\site-packages (from tensorflow) (3.3.0)\n",
      "Requirement already satisfied: google-pasta>=0.1.1 in f:\\anaconda ml\\lib\\site-packages (from tensorflow) (0.2.0)\n",
      "Requirement already satisfied: termcolor>=1.1.0 in f:\\anaconda ml\\lib\\site-packages (from tensorflow) (2.1.0)\n",
      "Requirement already satisfied: packaging in f:\\anaconda ml\\lib\\site-packages (from tensorflow) (20.9)\n",
      "Requirement already satisfied: grpcio<2.0,>=1.24.3 in f:\\anaconda ml\\lib\\site-packages (from tensorflow) (1.50.0)\n",
      "Requirement already satisfied: six>=1.12.0 in f:\\anaconda ml\\lib\\site-packages (from tensorflow) (1.15.0)\n",
      "Requirement already satisfied: astunparse>=1.6.0 in f:\\anaconda ml\\lib\\site-packages (from tensorflow) (1.6.3)\n",
      "Requirement already satisfied: keras<2.11,>=2.10.0 in f:\\anaconda ml\\lib\\site-packages (from tensorflow) (2.10.0)\n",
      "Requirement already satisfied: flatbuffers>=2.0 in f:\\anaconda ml\\lib\\site-packages (from tensorflow) (22.10.26)\n",
      "Requirement already satisfied: wheel<1.0,>=0.23.0 in f:\\anaconda ml\\lib\\site-packages (from astunparse>=1.6.0->tensorflow) (0.36.2)\n",
      "Requirement already satisfied: tensorboard-data-server<0.7.0,>=0.6.0 in f:\\anaconda ml\\lib\\site-packages (from tensorboard<2.11,>=2.10->tensorflow) (0.6.1)\n",
      "Requirement already satisfied: werkzeug>=1.0.1 in f:\\anaconda ml\\lib\\site-packages (from tensorboard<2.11,>=2.10->tensorflow) (1.0.1)\n",
      "Requirement already satisfied: google-auth-oauthlib<0.5,>=0.4.1 in f:\\anaconda ml\\lib\\site-packages (from tensorboard<2.11,>=2.10->tensorflow) (0.4.6)\n",
      "Requirement already satisfied: requests<3,>=2.21.0 in f:\\anaconda ml\\lib\\site-packages (from tensorboard<2.11,>=2.10->tensorflow) (2.25.1)\n",
      "Requirement already satisfied: google-auth<3,>=1.6.3 in f:\\anaconda ml\\lib\\site-packages (from tensorboard<2.11,>=2.10->tensorflow) (2.14.0)\n",
      "Requirement already satisfied: markdown>=2.6.8 in f:\\anaconda ml\\lib\\site-packages (from tensorboard<2.11,>=2.10->tensorflow) (3.4.1)\n",
      "Requirement already satisfied: tensorboard-plugin-wit>=1.6.0 in f:\\anaconda ml\\lib\\site-packages (from tensorboard<2.11,>=2.10->tensorflow) (1.8.1)\n",
      "Requirement already satisfied: rsa<5,>=3.1.4 in f:\\anaconda ml\\lib\\site-packages (from google-auth<3,>=1.6.3->tensorboard<2.11,>=2.10->tensorflow) (4.9)\n",
      "Requirement already satisfied: cachetools<6.0,>=2.0.0 in f:\\anaconda ml\\lib\\site-packages (from google-auth<3,>=1.6.3->tensorboard<2.11,>=2.10->tensorflow) (5.2.0)\n",
      "Requirement already satisfied: pyasn1-modules>=0.2.1 in f:\\anaconda ml\\lib\\site-packages (from google-auth<3,>=1.6.3->tensorboard<2.11,>=2.10->tensorflow) (0.2.8)\n",
      "Requirement already satisfied: requests-oauthlib>=0.7.0 in f:\\anaconda ml\\lib\\site-packages (from google-auth-oauthlib<0.5,>=0.4.1->tensorboard<2.11,>=2.10->tensorflow) (1.3.1)\n",
      "Requirement already satisfied: importlib-metadata>=4.4 in f:\\anaconda ml\\lib\\site-packages (from markdown>=2.6.8->tensorboard<2.11,>=2.10->tensorflow) (5.0.0)\n",
      "Requirement already satisfied: zipp>=0.5 in f:\\anaconda ml\\lib\\site-packages (from importlib-metadata>=4.4->markdown>=2.6.8->tensorboard<2.11,>=2.10->tensorflow) (3.4.1)\n",
      "Requirement already satisfied: pyasn1<0.5.0,>=0.4.6 in f:\\anaconda ml\\lib\\site-packages (from pyasn1-modules>=0.2.1->google-auth<3,>=1.6.3->tensorboard<2.11,>=2.10->tensorflow) (0.4.8)\n",
      "Requirement already satisfied: idna<3,>=2.5 in f:\\anaconda ml\\lib\\site-packages (from requests<3,>=2.21.0->tensorboard<2.11,>=2.10->tensorflow) (2.10)\n",
      "Requirement already satisfied: chardet<5,>=3.0.2 in f:\\anaconda ml\\lib\\site-packages (from requests<3,>=2.21.0->tensorboard<2.11,>=2.10->tensorflow) (4.0.0)\n",
      "Requirement already satisfied: certifi>=2017.4.17 in f:\\anaconda ml\\lib\\site-packages (from requests<3,>=2.21.0->tensorboard<2.11,>=2.10->tensorflow) (2020.12.5)\n",
      "Requirement already satisfied: urllib3<1.27,>=1.21.1 in f:\\anaconda ml\\lib\\site-packages (from requests<3,>=2.21.0->tensorboard<2.11,>=2.10->tensorflow) (1.26.4)\n",
      "Requirement already satisfied: oauthlib>=3.0.0 in f:\\anaconda ml\\lib\\site-packages (from requests-oauthlib>=0.7.0->google-auth-oauthlib<0.5,>=0.4.1->tensorboard<2.11,>=2.10->tensorflow) (3.2.2)\n",
      "Requirement already satisfied: pyparsing>=2.0.2 in f:\\anaconda ml\\lib\\site-packages (from packaging->tensorflow) (2.4.7)\n"
     ]
    }
   ],
   "source": [
    "!pip install tensorflow \n",
    "import tensorflow as tf"
   ]
  },
  {
   "cell_type": "code",
   "execution_count": 76,
   "id": "806cf55e",
   "metadata": {},
   "outputs": [
    {
     "name": "stdout",
     "output_type": "stream",
     "text": [
      "Requirement already satisfied: flask in f:\\anaconda ml\\lib\\site-packages (1.1.2)\n",
      "Requirement already satisfied: itsdangerous>=0.24 in f:\\anaconda ml\\lib\\site-packages (from flask) (1.1.0)\n",
      "Requirement already satisfied: click>=5.1 in f:\\anaconda ml\\lib\\site-packages (from flask) (7.1.2)\n",
      "Requirement already satisfied: Jinja2>=2.10.1 in f:\\anaconda ml\\lib\\site-packages (from flask) (2.11.3)\n",
      "Requirement already satisfied: Werkzeug>=0.15 in f:\\anaconda ml\\lib\\site-packages (from flask) (1.0.1)\n",
      "Requirement already satisfied: MarkupSafe>=0.23 in f:\\anaconda ml\\lib\\site-packages (from Jinja2>=2.10.1->flask) (1.1.1)\n"
     ]
    }
   ],
   "source": [
    "!pip install flask"
   ]
  },
  {
   "cell_type": "code",
   "execution_count": 77,
   "id": "4596bedc",
   "metadata": {},
   "outputs": [
    {
     "name": "stdout",
     "output_type": "stream",
     "text": [
      "Requirement already satisfied: keras in f:\\anaconda ml\\lib\\site-packages (2.10.0)\n"
     ]
    }
   ],
   "source": [
    "!pip install keras\n",
    "import keras as k"
   ]
  },
  {
   "cell_type": "code",
   "execution_count": 78,
   "id": "b5c37bcd",
   "metadata": {},
   "outputs": [],
   "source": [
    "dataset=pd.read_csv(\"Crude Oil Prices Daily.csv\")"
   ]
  },
  {
   "cell_type": "code",
   "execution_count": 79,
   "id": "61db49da",
   "metadata": {},
   "outputs": [
    {
     "data": {
      "text/html": [
       "<div>\n",
       "<style scoped>\n",
       "    .dataframe tbody tr th:only-of-type {\n",
       "        vertical-align: middle;\n",
       "    }\n",
       "\n",
       "    .dataframe tbody tr th {\n",
       "        vertical-align: top;\n",
       "    }\n",
       "\n",
       "    .dataframe thead th {\n",
       "        text-align: right;\n",
       "    }\n",
       "</style>\n",
       "<table border=\"1\" class=\"dataframe\">\n",
       "  <thead>\n",
       "    <tr style=\"text-align: right;\">\n",
       "      <th></th>\n",
       "      <th>Date</th>\n",
       "      <th>Closing Value</th>\n",
       "    </tr>\n",
       "  </thead>\n",
       "  <tbody>\n",
       "    <tr>\n",
       "      <th>0</th>\n",
       "      <td>02-01-1986</td>\n",
       "      <td>25.56</td>\n",
       "    </tr>\n",
       "    <tr>\n",
       "      <th>1</th>\n",
       "      <td>03-01-1986</td>\n",
       "      <td>26.00</td>\n",
       "    </tr>\n",
       "    <tr>\n",
       "      <th>2</th>\n",
       "      <td>06-01-1986</td>\n",
       "      <td>26.53</td>\n",
       "    </tr>\n",
       "    <tr>\n",
       "      <th>3</th>\n",
       "      <td>07-01-1986</td>\n",
       "      <td>25.85</td>\n",
       "    </tr>\n",
       "    <tr>\n",
       "      <th>4</th>\n",
       "      <td>08-01-1986</td>\n",
       "      <td>25.87</td>\n",
       "    </tr>\n",
       "  </tbody>\n",
       "</table>\n",
       "</div>"
      ],
      "text/plain": [
       "         Date  Closing Value\n",
       "0  02-01-1986          25.56\n",
       "1  03-01-1986          26.00\n",
       "2  06-01-1986          26.53\n",
       "3  07-01-1986          25.85\n",
       "4  08-01-1986          25.87"
      ]
     },
     "execution_count": 79,
     "metadata": {},
     "output_type": "execute_result"
    }
   ],
   "source": [
    "dataset.head()"
   ]
  },
  {
   "cell_type": "code",
   "execution_count": 80,
   "id": "7a728a4a",
   "metadata": {},
   "outputs": [
    {
     "data": {
      "text/plain": [
       "Date             False\n",
       "Closing Value     True\n",
       "dtype: bool"
      ]
     },
     "execution_count": 80,
     "metadata": {},
     "output_type": "execute_result"
    }
   ],
   "source": [
    "dataset.isnull().any()"
   ]
  },
  {
   "cell_type": "code",
   "execution_count": 81,
   "id": "ec96573f",
   "metadata": {},
   "outputs": [
    {
     "data": {
      "text/plain": [
       "Date             0\n",
       "Closing Value    7\n",
       "dtype: int64"
      ]
     },
     "execution_count": 81,
     "metadata": {},
     "output_type": "execute_result"
    }
   ],
   "source": [
    "dataset.isnull().sum()"
   ]
  },
  {
   "cell_type": "code",
   "execution_count": 82,
   "id": "eab806a8",
   "metadata": {},
   "outputs": [],
   "source": [
    "dataset.dropna(axis=0,inplace=True)"
   ]
  },
  {
   "cell_type": "code",
   "execution_count": 83,
   "id": "ee21763c",
   "metadata": {},
   "outputs": [
    {
     "data": {
      "text/plain": [
       "Date             0\n",
       "Closing Value    0\n",
       "dtype: int64"
      ]
     },
     "execution_count": 83,
     "metadata": {},
     "output_type": "execute_result"
    }
   ],
   "source": [
    "dataset.isnull().sum()"
   ]
  },
  {
   "cell_type": "code",
   "execution_count": 84,
   "id": "cf44ccad",
   "metadata": {},
   "outputs": [
    {
     "data": {
      "text/plain": [
       "0       25.56\n",
       "1       26.00\n",
       "2       26.53\n",
       "3       25.85\n",
       "4       25.87\n",
       "        ...  \n",
       "8211    73.89\n",
       "8212    74.19\n",
       "8213    73.05\n",
       "8214    73.78\n",
       "8215    73.93\n",
       "Name: Closing Value, Length: 8216, dtype: float64"
      ]
     },
     "execution_count": 84,
     "metadata": {},
     "output_type": "execute_result"
    }
   ],
   "source": [
    "dataoil=dataset.reset_index()['Closing Value']\n",
    "dataoil"
   ]
  },
  {
   "cell_type": "code",
   "execution_count": 85,
   "id": "1fbde8c6",
   "metadata": {},
   "outputs": [
    {
     "data": {
      "text/plain": [
       "array([[0.11335703],\n",
       "       [0.11661484],\n",
       "       [0.12053902],\n",
       "       ...,\n",
       "       [0.46497853],\n",
       "       [0.47038353],\n",
       "       [0.47149415]])"
      ]
     },
     "execution_count": 85,
     "metadata": {},
     "output_type": "execute_result"
    }
   ],
   "source": [
    "from sklearn.preprocessing import MinMaxScaler\n",
    "scaler=MinMaxScaler(feature_range=(0,1))\n",
    "dataoil=scaler.fit_transform(np.array(dataoil).reshape(-1,1))\n",
    "dataoil"
   ]
  },
  {
   "cell_type": "code",
   "execution_count": 86,
   "id": "984bef5a",
   "metadata": {},
   "outputs": [
    {
     "data": {
      "text/plain": [
       "[<matplotlib.lines.Line2D at 0x1b0cbf6b490>]"
      ]
     },
     "execution_count": 86,
     "metadata": {},
     "output_type": "execute_result"
    },
    {
     "data": {
      "image/png": "[encoded data removed]",
      "text/plain": [
       "<Figure size 432x288 with 1 Axes>"
      ]
     },
     "metadata": {
      "needs_background": "light"
     },
     "output_type": "display_data"
    }
   ],
   "source": [
    "plt.plot(dataoil)"
   ]
  },
  {
   "cell_type": "code",
   "execution_count": 87,
   "id": "bf540a4e",
   "metadata": {},
   "outputs": [],
   "source": [
    "training_size=int(len(dataoil)*0.65)\n",
    "test_size=len(dataoil)-training_size\n",
    "train_data,test_data=dataoil[0:training_size,:],dataoil[training_size:len(dataoil),:1]"
   ]
  },
  {
   "cell_type": "code",
   "execution_count": 88,
   "id": "2e08b8a2",
   "metadata": {},
   "outputs": [
    {
     "data": {
      "text/plain": [
       "(5340, 2876)"
      ]
     },
     "execution_count": 88,
     "metadata": {},
     "output_type": "execute_result"
    }
   ],
   "source": [
    "training_size,test_size"
   ]
  },
  {
   "cell_type": "code",
   "execution_count": 89,
   "id": "36fec26e",
   "metadata": {},
   "outputs": [
    {
     "data": {
      "text/plain": [
       "(5340, 1)"
      ]
     },
     "execution_count": 89,
     "metadata": {},
     "output_type": "execute_result"
    }
   ],
   "source": [
    "train_data.shape"
   ]
  },
  {
   "cell_type": "code",
   "execution_count": 90,
   "id": "7c1a1d85",
   "metadata": {},
   "outputs": [],
   "source": [
    "def create_dataset(dataset,time_step=1):\n",
    "    dataX,dataY=[],[]\n",
    "    for i in range(len(dataset)-time_step-1):\n",
    "        a=dataset[i:(i+time_step),0]\n",
    "        dataX.append(a)\n",
    "        dataY.append(dataset[i+time_step,0])\n",
    "        return np.array(dataX),np.array(dataY)"
   ]
  },
  {
   "cell_type": "code",
   "execution_count": 91,
   "id": "de7e0003",
   "metadata": {},
   "outputs": [],
   "source": [
    "time_step=10\n",
    "x_train,y_train=create_dataset(train_data,time_step)\n",
    "x_test,y_test=create_dataset(test_data,time_step)"
   ]
  },
  {
   "cell_type": "code",
   "execution_count": 92,
   "id": "5548dbb1",
   "metadata": {},
   "outputs": [
    {
     "name": "stdout",
     "output_type": "stream",
     "text": [
      "(1, 10)\n",
      "(1,)\n"
     ]
    },
    {
     "data": {
      "text/plain": [
       "(None, None)"
      ]
     },
     "execution_count": 92,
     "metadata": {},
     "output_type": "execute_result"
    }
   ],
   "source": [
    "print(x_train.shape),print(y_train.shape)"
   ]
  },
  {
   "cell_type": "code",
   "execution_count": 93,
   "id": "e098773b",
   "metadata": {},
   "outputs": [
    {
     "name": "stdout",
     "output_type": "stream",
     "text": [
      "(1, 10)\n",
      "(1,)\n"
     ]
    },
    {
     "data": {
      "text/plain": [
       "(None, None)"
      ]
     },
     "execution_count": 93,
     "metadata": {},
     "output_type": "execute_result"
    }
   ],
   "source": [
    "print(x_test.shape),print(y_test.shape)"
   ]
  },
  {
   "cell_type": "code",
   "execution_count": 94,
   "id": "37e4587e",
   "metadata": {},
   "outputs": [
    {
     "data": {
      "text/plain": [
       "array([[0.11335703, 0.11661484, 0.12053902, 0.11550422, 0.1156523 ,\n",
       "        0.11683696, 0.1140234 , 0.10980305, 0.1089886 , 0.11054346]])"
      ]
     },
     "execution_count": 94,
     "metadata": {},
     "output_type": "execute_result"
    }
   ],
   "source": [
    "x_train"
   ]
  },
  {
   "cell_type": "code",
   "execution_count": 95,
   "id": "16c9bdef",
   "metadata": {},
   "outputs": [],
   "source": [
    "x_train=x_train.reshape(x_train.shape[0],x_train.shape[1],1)\n",
    "x_test=x_test.reshape(x_test.shape[0],x_test.shape[1],1)"
   ]
  },
  {
   "cell_type": "markdown",
   "id": "6faea8b8",
   "metadata": {},
   "source": [
    "# MODEL BUILDING"
   ]
  },
  {
   "cell_type": "markdown",
   "id": "b41f56d9",
   "metadata": {},
   "source": [
    "## IMPORTING MODEL BUILDING LIBRARIES"
   ]
  },
  {
   "cell_type": "code",
   "execution_count": 111,
   "id": "5e40609b",
   "metadata": {},
   "outputs": [],
   "source": [
    "from tensorflow.keras.models import Sequential\n",
    "from tensorflow.keras import layers\n",
    "from tensorflow.keras.layers import Dense\n",
    "from tensorflow.keras.layers import LSTM\n",
    "from sklearn.preprocessing import StandardScaler\n",
    "from sklearn.model_selection import train_test_split\n",
    "from keras.layers import Dropout\n",
    "from sklearn.metrics import mean_squared_error\n",
    "from keras.callbacks import ReduceLROnPlateau, EarlyStopping, ModelCheckpoint\n",
    "from sklearn.metrics import mean_absolute_error"
   ]
  },
  {
   "cell_type": "markdown",
   "id": "a1df5be2",
   "metadata": {},
   "source": [
    "## INITIALIZING THE MODEL"
   ]
  },
  {
   "cell_type": "code",
   "execution_count": 112,
   "id": "68ae1e96",
   "metadata": {},
   "outputs": [],
   "source": [
    "model=Sequential()"
   ]
  },
  {
   "cell_type": "markdown",
   "id": "a265136c",
   "metadata": {},
   "source": [
    "## ADDING LSTM LAYERS "
   ]
  },
  {
   "cell_type": "code",
   "execution_count": 113,
   "id": "51e3a798",
   "metadata": {},
   "outputs": [],
   "source": [
    "model.add(LSTM(50,return_sequences=True,input_shape=(10,1)))\n",
    "model.add(LSTM(50,return_sequences=True))\n",
    "model.add(LSTM(50))\n"
   ]
  },
  {
   "cell_type": "markdown",
   "id": "cd993117",
   "metadata": {},
   "source": [
    "## adding output layers"
   ]
  },
  {
   "cell_type": "code",
   "execution_count": 114,
   "id": "a6e27fe9",
   "metadata": {},
   "outputs": [],
   "source": [
    "model.add(Dense(1))"
   ]
  },
  {
   "cell_type": "code",
   "execution_count": 115,
   "id": "7d977bd1",
   "metadata": {},
   "outputs": [
    {
     "name": "stdout",
     "output_type": "stream",
     "text": [
      "Model: \"sequential_21\"\n",
      "_________________________________________________________________\n",
      " Layer (type)                Output Shape              Param #   \n",
      "=================================================================\n",
      " lstm_18 (LSTM)              (None, 10, 50)            10400     \n",
      "                                                                 \n",
      " lstm_19 (LSTM)              (None, 10, 50)            20200     \n",
      "                                                                 \n",
      " lstm_20 (LSTM)              (None, 50)                20200     \n",
      "                                                                 \n",
      " dense_5 (Dense)             (None, 1)                 51        \n",
      "                                                                 \n",
      "=================================================================\n",
      "Total params: 50,851\n",
      "Trainable params: 50,851\n",
      "Non-trainable params: 0\n",
      "_________________________________________________________________\n"
     ]
    }
   ],
   "source": [
    "model.summary()"
   ]
  },
  {
   "cell_type": "markdown",
   "id": "8b95c3e0",
   "metadata": {},
   "source": [
    "## configure the learning process "
   ]
  },
  {
   "cell_type": "code",
   "execution_count": 116,
   "id": "548a4174",
   "metadata": {},
   "outputs": [],
   "source": [
    "model.compile(loss='mean_squared_error',optimizer='adam')"
   ]
  },
  {
   "cell_type": "markdown",
   "id": "4ff8b975",
   "metadata": {},
   "source": [
    "## train the model"
   ]
  },
  {
   "cell_type": "code",
   "execution_count": 117,
   "id": "790ede6c",
   "metadata": {},
   "outputs": [
    {
     "name": "stdout",
     "output_type": "stream",
     "text": [
      "Epoch 1/50\n",
      "1/1 [==============================] - 5s 5s/step - loss: 0.0089 - val_loss: 0.0859\n",
      "Epoch 2/50\n",
      "1/1 [==============================] - 0s 51ms/step - loss: 0.0056 - val_loss: 0.0681\n",
      "Epoch 3/50\n",
      "1/1 [==============================] - 0s 44ms/step - loss: 0.0029 - val_loss: 0.0506\n",
      "Epoch 4/50\n",
      "1/1 [==============================] - 0s 46ms/step - loss: 8.8476e-04 - val_loss: 0.0343\n",
      "Epoch 5/50\n",
      "1/1 [==============================] - 0s 48ms/step - loss: 1.1931e-05 - val_loss: 0.0212\n",
      "Epoch 6/50\n",
      "1/1 [==============================] - 0s 53ms/step - loss: 5.1180e-04 - val_loss: 0.0148\n",
      "Epoch 7/50\n",
      "1/1 [==============================] - 0s 47ms/step - loss: 0.0015 - val_loss: 0.0141\n",
      "Epoch 8/50\n",
      "1/1 [==============================] - 0s 48ms/step - loss: 0.0017 - val_loss: 0.0165\n",
      "Epoch 9/50\n",
      "1/1 [==============================] - 0s 52ms/step - loss: 0.0013 - val_loss: 0.0208\n",
      "Epoch 10/50\n",
      "1/1 [==============================] - 0s 49ms/step - loss: 6.6404e-04 - val_loss: 0.0262\n",
      "Epoch 11/50\n",
      "1/1 [==============================] - 0s 52ms/step - loss: 2.0883e-04 - val_loss: 0.0320\n",
      "Epoch 12/50\n",
      "1/1 [==============================] - 0s 47ms/step - loss: 1.3095e-05 - val_loss: 0.0373\n",
      "Epoch 13/50\n",
      "1/1 [==============================] - 0s 42ms/step - loss: 3.2246e-05 - val_loss: 0.0417\n",
      "Epoch 14/50\n",
      "1/1 [==============================] - 0s 50ms/step - loss: 1.6723e-04 - val_loss: 0.0451\n",
      "Epoch 15/50\n",
      "1/1 [==============================] - 0s 44ms/step - loss: 3.2337e-04 - val_loss: 0.0472\n",
      "Epoch 16/50\n",
      "1/1 [==============================] - 0s 59ms/step - loss: 4.3716e-04 - val_loss: 0.0482\n",
      "Epoch 17/50\n",
      "1/1 [==============================] - 0s 57ms/step - loss: 4.8061e-04 - val_loss: 0.0482\n",
      "Epoch 18/50\n",
      "1/1 [==============================] - 0s 55ms/step - loss: 4.5345e-04 - val_loss: 0.0473\n",
      "Epoch 19/50\n",
      "1/1 [==============================] - 0s 63ms/step - loss: 3.7263e-04 - val_loss: 0.0458\n",
      "Epoch 20/50\n",
      "1/1 [==============================] - 0s 55ms/step - loss: 2.6335e-04 - val_loss: 0.0439\n",
      "Epoch 21/50\n",
      "1/1 [==============================] - 0s 71ms/step - loss: 1.5239e-04 - val_loss: 0.0417\n",
      "Epoch 22/50\n",
      "1/1 [==============================] - 0s 61ms/step - loss: 6.3035e-05 - val_loss: 0.0394\n",
      "Epoch 23/50\n",
      "1/1 [==============================] - 0s 61ms/step - loss: 1.1004e-05 - val_loss: 0.0373\n",
      "Epoch 24/50\n",
      "1/1 [==============================] - 0s 61ms/step - loss: 1.4213e-06 - val_loss: 0.0354\n",
      "Epoch 25/50\n",
      "1/1 [==============================] - 0s 63ms/step - loss: 2.7494e-05 - val_loss: 0.0339\n",
      "Epoch 26/50\n",
      "1/1 [==============================] - 0s 61ms/step - loss: 7.2352e-05 - val_loss: 0.0330\n",
      "Epoch 27/50\n",
      "1/1 [==============================] - 0s 53ms/step - loss: 1.1480e-04 - val_loss: 0.0326\n",
      "Epoch 28/50\n",
      "1/1 [==============================] - 0s 60ms/step - loss: 1.3746e-04 - val_loss: 0.0328\n",
      "Epoch 29/50\n",
      "1/1 [==============================] - 0s 60ms/step - loss: 1.3315e-04 - val_loss: 0.0335\n",
      "Epoch 30/50\n",
      "1/1 [==============================] - 0s 43ms/step - loss: 1.0614e-04 - val_loss: 0.0347\n",
      "Epoch 31/50\n",
      "1/1 [==============================] - 0s 60ms/step - loss: 6.8219e-05 - val_loss: 0.0361\n",
      "Epoch 32/50\n",
      "1/1 [==============================] - 0s 59ms/step - loss: 3.2535e-05 - val_loss: 0.0376\n",
      "Epoch 33/50\n",
      "1/1 [==============================] - 0s 73ms/step - loss: 8.6072e-06 - val_loss: 0.0391\n",
      "Epoch 34/50\n",
      "1/1 [==============================] - 0s 77ms/step - loss: 4.7244e-08 - val_loss: 0.0405\n",
      "Epoch 35/50\n",
      "1/1 [==============================] - 0s 84ms/step - loss: 4.9545e-06 - val_loss: 0.0416\n",
      "Epoch 36/50\n",
      "1/1 [==============================] - 0s 70ms/step - loss: 1.7914e-05 - val_loss: 0.0425\n",
      "Epoch 37/50\n",
      "1/1 [==============================] - 0s 56ms/step - loss: 3.2443e-05 - val_loss: 0.0430\n",
      "Epoch 38/50\n",
      "1/1 [==============================] - 0s 61ms/step - loss: 4.3069e-05 - val_loss: 0.0433\n",
      "Epoch 39/50\n",
      "1/1 [==============================] - 0s 59ms/step - loss: 4.6618e-05 - val_loss: 0.0431\n",
      "Epoch 40/50\n",
      "1/1 [==============================] - 0s 57ms/step - loss: 4.2610e-05 - val_loss: 0.0428\n",
      "Epoch 41/50\n",
      "1/1 [==============================] - 0s 61ms/step - loss: 3.2881e-05 - val_loss: 0.0422\n",
      "Epoch 42/50\n",
      "1/1 [==============================] - 0s 64ms/step - loss: 2.0682e-05 - val_loss: 0.0414\n",
      "Epoch 43/50\n",
      "1/1 [==============================] - 0s 79ms/step - loss: 9.5497e-06 - val_loss: 0.0406\n",
      "Epoch 44/50\n",
      "1/1 [==============================] - 0s 58ms/step - loss: 2.2446e-06 - val_loss: 0.0398\n",
      "Epoch 45/50\n",
      "1/1 [==============================] - 0s 61ms/step - loss: 7.4799e-09 - val_loss: 0.0391\n",
      "Epoch 46/50\n",
      "1/1 [==============================] - 0s 68ms/step - loss: 2.3321e-06 - val_loss: 0.0385\n",
      "Epoch 47/50\n",
      "1/1 [==============================] - 0s 64ms/step - loss: 7.3132e-06 - val_loss: 0.0381\n",
      "Epoch 48/50\n",
      "1/1 [==============================] - 0s 60ms/step - loss: 1.2446e-05 - val_loss: 0.0379\n",
      "Epoch 49/50\n",
      "1/1 [==============================] - 0s 67ms/step - loss: 1.5576e-05 - val_loss: 0.0380\n",
      "Epoch 50/50\n",
      "1/1 [==============================] - 0s 63ms/step - loss: 1.5629e-05 - val_loss: 0.0382\n"
     ]
    },
    {
     "data": {
      "text/plain": [
       "<keras.callbacks.History at 0x1b0da578e20>"
      ]
     },
     "execution_count": 117,
     "metadata": {},
     "output_type": "execute_result"
    }
   ],
   "source": [
    "model.fit(x_train,y_train,validation_data=(x_test,y_test),epochs=50,batch_size=64,verbose=1)"
   ]
  },
  {
   "cell_type": "markdown",
   "id": "c3d98f1d",
   "metadata": {},
   "source": [
    "## Model Evaluation"
   ]
  },
  {
   "cell_type": "code",
   "execution_count": 118,
   "id": "2268f5c4",
   "metadata": {},
   "outputs": [
    {
     "name": "stdout",
     "output_type": "stream",
     "text": [
      "Epoch 1/20\n",
      "1/1 [==============================] - 5s 5s/step - loss: 0.0110 - val_loss: 0.1083 - lr: 0.0010\n",
      "Epoch 2/20\n",
      "1/1 [==============================] - 0s 53ms/step - loss: 0.0073 - val_loss: 0.0863 - lr: 0.0010\n",
      "Epoch 3/20\n",
      "1/1 [==============================] - 0s 52ms/step - loss: 0.0039 - val_loss: 0.0660 - lr: 0.0010\n",
      "Epoch 4/20\n",
      "1/1 [==============================] - 0s 50ms/step - loss: 0.0017 - val_loss: 0.0473 - lr: 0.0010\n",
      "Epoch 5/20\n",
      "1/1 [==============================] - 0s 52ms/step - loss: 5.7395e-04 - val_loss: 0.0307 - lr: 0.0010\n",
      "Epoch 6/20\n",
      "1/1 [==============================] - 0s 53ms/step - loss: 2.6244e-04 - val_loss: 0.0204 - lr: 0.0010\n",
      "Epoch 7/20\n",
      "1/1 [==============================] - 0s 48ms/step - loss: 9.9683e-04 - val_loss: 0.0163 - lr: 0.0010\n",
      "Epoch 8/20\n",
      "1/1 [==============================] - 0s 43ms/step - loss: 0.0025 - val_loss: 0.0174 - lr: 0.0010\n",
      "Epoch 9/20\n",
      "1/1 [==============================] - 0s 62ms/step - loss: 0.0018 - val_loss: 0.0212 - lr: 0.0010\n",
      "Epoch 10/20\n",
      "1/1 [==============================] - 0s 55ms/step - loss: 0.0014 - val_loss: 0.0267 - lr: 0.0010\n",
      "Epoch 11/20\n",
      "1/1 [==============================] - 0s 44ms/step - loss: 6.2504e-04 - val_loss: 0.0331 - lr: 0.0010\n",
      "Epoch 12/20\n",
      "1/1 [==============================] - 0s 61ms/step - loss: 1.1217e-04 - val_loss: 0.0384 - lr: 0.0010\n",
      "Epoch 13/20\n",
      "1/1 [==============================] - 0s 60ms/step - loss: 6.9071e-05 - val_loss: 0.0388 - lr: 1.0000e-04\n",
      "Epoch 14/20\n",
      "1/1 [==============================] - 0s 56ms/step - loss: 1.1629e-06 - val_loss: 0.0392 - lr: 1.0000e-04\n",
      "Epoch 15/20\n",
      "1/1 [==============================] - 0s 46ms/step - loss: 1.3455e-04 - val_loss: 0.0395 - lr: 1.0000e-04\n",
      "Epoch 16/20\n",
      "1/1 [==============================] - 0s 57ms/step - loss: 1.0581e-04 - val_loss: 0.0397 - lr: 1.0000e-04\n",
      "Epoch 17/20\n",
      "1/1 [==============================] - 0s 64ms/step - loss: 2.0477e-05 - val_loss: 0.0400 - lr: 1.0000e-04\n",
      "Epoch 18/20\n",
      "1/1 [==============================] - 0s 65ms/step - loss: 3.3724e-08 - val_loss: 0.0400 - lr: 1.0000e-05\n",
      "Epoch 19/20\n",
      "1/1 [==============================] - 0s 54ms/step - loss: 2.2833e-04 - val_loss: 0.0400 - lr: 1.0000e-05\n",
      "Epoch 20/20\n",
      "1/1 [==============================] - 0s 58ms/step - loss: 1.2002e-05 - val_loss: 0.0400 - lr: 1.0000e-05\n"
     ]
    }
   ],
   "source": [
    "regressor = Sequential()\n",
    "\n",
    "regressor.add(LSTM(units = 60, return_sequences = True, input_shape = (x_train.shape[1], 1)))\n",
    "regressor.add(Dropout(0.1))\n",
    "\n",
    "regressor.add(LSTM(units = 60, return_sequences = True))\n",
    "regressor.add(Dropout(0.1))\n",
    "\n",
    "regressor.add(LSTM(units = 60))\n",
    "regressor.add(Dropout(0.1))\n",
    "\n",
    "regressor.add(Dense(units = 1))\n",
    "\n",
    "\n",
    "regressor.compile(optimizer = 'adam', loss = 'mean_squared_error')\n",
    "reduce_lr = ReduceLROnPlateau(monitor='val_loss',patience=5)\n",
    "history =regressor.fit(x_train, y_train, epochs = 20, batch_size = 15,validation_data=(x_test, y_test), callbacks=[reduce_lr],shuffle=False)"
   ]
  },
  {
   "cell_type": "code",
   "execution_count": 120,
   "id": "c2bdfd82",
   "metadata": {},
   "outputs": [
    {
     "name": "stdout",
     "output_type": "stream",
     "text": [
      "1/1 [==============================] - 1s 899ms/step\n",
      "1/1 [==============================] - 0s 20ms/step\n"
     ]
    }
   ],
   "source": [
    "train_predict = regressor.predict(x_train)\n",
    "test_predict = regressor.predict(x_test)\n"
   ]
  },
  {
   "cell_type": "code",
   "execution_count": 122,
   "id": "e169558c",
   "metadata": {},
   "outputs": [],
   "source": [
    "train_predict = scaler.inverse_transform(train_predict)\n",
    "y_train = scaler.inverse_transform([y_train])\n",
    "test_predict = scaler.inverse_transform(test_predict)\n",
    "y_test = scaler.inverse_transform([y_test])"
   ]
  },
  {
   "cell_type": "code",
   "execution_count": 123,
   "id": "a7a11cdb",
   "metadata": {},
   "outputs": [
    {
     "data": {
      "text/plain": [
       "0.31269309997558636"
      ]
     },
     "execution_count": 123,
     "metadata": {},
     "output_type": "execute_result"
    }
   ],
   "source": [
    "import math\n",
    "from sklearn.metrics import mean_squared_error\n",
    "math.sqrt(mean_squared_error(y_train,train_predict))"
   ]
  },
  {
   "cell_type": "code",
   "execution_count": 125,
   "id": "2b05de2f",
   "metadata": {},
   "outputs": [],
   "source": [
    "from tensorflow.keras.models import load_model\n",
    "model.save(\"crude_oil.h5\")"
   ]
  },
  {
   "cell_type": "code",
   "execution_count": 129,
   "id": "656f2fa3",
   "metadata": {},
   "outputs": [],
   "source": [
    "look_back=10\n",
    "trainPredictPlot=np.empty_like(dataoil)\n",
    "trainPredictPlot[:,:]=np.nan\n",
    "trainPredictPlot[look_back:len(train_predict)+look_back,:]=train_predict\n",
    "testPredictPlot=np.empty_like(dataoil)\n",
    "testPredictPlot[:,:]=np.nan\n",
    "testPredictPlot[len(train_predict)+(look_back*2)+1:len(dataoil)-1,:]=test_predict"
   ]
  },
  {
   "cell_type": "code",
   "execution_count": 130,
   "id": "1fa8f2fa",
   "metadata": {},
   "outputs": [
    {
     "data": {
      "image/png": "[encoded data removed]",
      "text/plain": [
       "<Figure size 432x288 with 1 Axes>"
      ]
     },
     "metadata": {
      "needs_background": "light"
     },
     "output_type": "display_data"
    }
   ],
   "source": [
    "plt.plot(scaler.inverse_transform(dataoil))\n",
    "plt.plot(trainPredictPlot)\n",
    "plt.plot(testPredictPlot)\n",
    "plt.show()\n"
   ]
  },
  {
   "cell_type": "code",
   "execution_count": 131,
   "id": "9d8fadef",
   "metadata": {},
   "outputs": [
    {
     "data": {
      "text/plain": [
       "2876"
      ]
     },
     "execution_count": 131,
     "metadata": {},
     "output_type": "execute_result"
    }
   ],
   "source": [
    "len(test_data)"
   ]
  },
  {
   "cell_type": "code",
   "execution_count": 138,
   "id": "4bb4e841",
   "metadata": {},
   "outputs": [
    {
     "data": {
      "text/plain": [
       "(1, 10)"
      ]
     },
     "execution_count": 138,
     "metadata": {},
     "output_type": "execute_result"
    }
   ],
   "source": [
    "x_input=test_data[2866:].reshape(1,-1)\n",
    "x_input.shape"
   ]
  },
  {
   "cell_type": "code",
   "execution_count": 139,
   "id": "a0b8010d",
   "metadata": {},
   "outputs": [],
   "source": [
    "temp_input=list(x_input)\n",
    "temp_input=temp_input[0].tolist()"
   ]
  },
  {
   "cell_type": "code",
   "execution_count": 140,
   "id": "7ad3b43e",
   "metadata": {},
   "outputs": [
    {
     "data": {
      "text/plain": [
       "[0.44172960165852215,\n",
       " 0.48111950244335855,\n",
       " 0.49726047682511476,\n",
       " 0.4679401747371539,\n",
       " 0.4729749740855915,\n",
       " 0.47119798608026064,\n",
       " 0.47341922108692425,\n",
       " 0.4649785280616022,\n",
       " 0.4703835332444839,\n",
       " 0.47149415074781587]"
      ]
     },
     "execution_count": 140,
     "metadata": {},
     "output_type": "execute_result"
    }
   ],
   "source": [
    "temp_input"
   ]
  },
  {
   "cell_type": "code",
   "execution_count": 142,
   "id": "d9ea33c2",
   "metadata": {},
   "outputs": [
    {
     "name": "stdout",
     "output_type": "stream",
     "text": [
      "WARNING:tensorflow:5 out of the last 9 calls to <function Model.make_predict_function.<locals>.predict_function at 0x000001B0E9B9BB80> triggered tf.function retracing. Tracing is expensive and the excessive number of tracings could be due to (1) creating @tf.function repeatedly in a loop, (2) passing tensors with different shapes, (3) passing Python objects instead of tensors. For (1), please define your @tf.function outside of the loop. For (2), @tf.function has reduce_retracing=True option that can avoid unnecessary retracing. For (3), please refer to https://www.tensorflow.org/guide/function#controlling_retracing and https://www.tensorflow.org/api_docs/python/tf/function for  more details.\n",
      "[0.16928944]\n",
      "11\n",
      "1 day input [0.4811195  0.49726048 0.46794017 0.47297497 0.47119799 0.47341922\n",
      " 0.46497853 0.47038353 0.47149415 0.16928944]\n",
      "1 day output [[0.16845967]]\n",
      "2 day input [0.49726048 0.46794017 0.47297497 0.47119799 0.47341922 0.46497853\n",
      " 0.47038353 0.47149415 0.16928944 0.16845967]\n",
      "2 day output [[0.1652108]]\n",
      "3 day input [0.46794017 0.47297497 0.47119799 0.47341922 0.46497853 0.47038353\n",
      " 0.47149415 0.16928944 0.16845967 0.1652108 ]\n",
      "3 day output [[0.16010278]]\n",
      "4 day input [0.47297497 0.47119799 0.47341922 0.46497853 0.47038353 0.47149415\n",
      " 0.16928944 0.16845967 0.1652108  0.16010278]\n",
      "4 day output [[0.15425318]]\n",
      "5 day input [0.47119799 0.47341922 0.46497853 0.47038353 0.47149415 0.16928944\n",
      " 0.16845967 0.1652108  0.16010278 0.15425318]\n",
      "5 day output [[0.14744194]]\n",
      "6 day input [0.47341922 0.46497853 0.47038353 0.47149415 0.16928944 0.16845967\n",
      " 0.1652108  0.16010278 0.15425318 0.14744194]\n",
      "6 day output [[0.14018959]]\n",
      "7 day input [0.46497853 0.47038353 0.47149415 0.16928944 0.16845967 0.1652108\n",
      " 0.16010278 0.15425318 0.14744194 0.14018959]\n",
      "7 day output [[0.13276243]]\n",
      "8 day input [0.47038353 0.47149415 0.16928944 0.16845967 0.1652108  0.16010278\n",
      " 0.15425318 0.14744194 0.14018959 0.13276243]\n",
      "8 day output [[0.12560183]]\n",
      "9 day input [0.47149415 0.16928944 0.16845967 0.1652108  0.16010278 0.15425318\n",
      " 0.14744194 0.14018959 0.13276243 0.12560183]\n",
      "9 day output [[0.11864175]]\n"
     ]
    }
   ],
   "source": [
    "lst_output=[]\n",
    "n_steps=10\n",
    "i=0 \n",
    "while(i<10):\n",
    "    if(len(temp_input)>10):\n",
    "        x_input=np.array(temp_input[1:])\n",
    "        print(\"{} day input {}\".format(i,x_input))\n",
    "        x_input=x_input.reshape(1,-1)\n",
    "        x_input=x_input.reshape((1,n_steps,1))\n",
    "        yhat=model.predict(x_input,verbose=0)\n",
    "        print(\"{} day output {}\".format(i,yhat))\n",
    "        temp_input.extend(yhat[0].tolist())\n",
    "        temp_input=temp_input[1:]\n",
    "        lst_output.extend(yhat.tolist())\n",
    "        i=i+1\n",
    "    else:\n",
    "        x_input=x_input.reshape((1,n_steps,1))\n",
    "        yhat=model.predict(x_input,verbose=0)\n",
    "        print(yhat[0])\n",
    "        temp_input.extend(yhat[0].tolist())\n",
    "        print(len(temp_input))\n",
    "        lst_output.extend(yhat.tolist())\n",
    "        i=i+1"
   ]
  },
  {
   "cell_type": "code",
   "execution_count": 143,
   "id": "636c3ad6",
   "metadata": {},
   "outputs": [
    {
     "data": {
      "text/plain": [
       "8216"
      ]
     },
     "execution_count": 143,
     "metadata": {},
     "output_type": "execute_result"
    }
   ],
   "source": [
    "day_new=np.arange(1,11)\n",
    "day_pred=np.arange(11,21)\n",
    "len(dataoil)\n"
   ]
  },
  {
   "cell_type": "code",
   "execution_count": 145,
   "id": "b583a60f",
   "metadata": {},
   "outputs": [
    {
     "data": {
      "text/plain": [
       "[<matplotlib.lines.Line2D at 0x1b0e9be0760>]"
      ]
     },
     "execution_count": 145,
     "metadata": {},
     "output_type": "execute_result"
    },
    {
     "data": {
      "image/png": "[encoded data removed]",
      "text/plain": [
       "<Figure size 432x288 with 1 Axes>"
      ]
     },
     "metadata": {
      "needs_background": "light"
     },
     "output_type": "display_data"
    }
   ],
   "source": [
    "plt.plot(day_new,scaler.inverse_transform(dataoil[8206:]))\n",
    "plt.plot(day_pred,scaler.inverse_transform(lst_output))"
   ]
  },
  {
   "cell_type": "code",
   "execution_count": 146,
   "id": "07388ebe",
   "metadata": {},
   "outputs": [
    {
     "data": {
      "text/plain": [
       "[<matplotlib.lines.Line2D at 0x1b0eaf28220>]"
      ]
     },
     "execution_count": 146,
     "metadata": {},
     "output_type": "execute_result"
    },
    {
     "data": {
      "image/png": "[encoded data removed]",
      "text/plain": [
       "<Figure size 432x288 with 1 Axes>"
      ]
     },
     "metadata": {
      "needs_background": "light"
     },
     "output_type": "display_data"
    }
   ],
   "source": [
    "df3=dataoil.tolist()\n",
    "df3.extend(lst_output)\n",
    "plt.plot(df3[8100:])"
   ]
  },
  {
   "cell_type": "code",
   "execution_count": 150,
   "id": "ade6ccfe",
   "metadata": {},
   "outputs": [
    {
     "data": {
      "text/plain": [
       "[<matplotlib.lines.Line2D at 0x1b0d92cd700>]"
      ]
     },
     "execution_count": 150,
     "metadata": {},
     "output_type": "execute_result"
    },
    {
     "data": {
      "image/png": "[encoded data removed]",
      "text/plain": [
       "<Figure size 432x288 with 1 Axes>"
      ]
     },
     "metadata": {
      "needs_background": "light"
     },
     "output_type": "display_data"
    }
   ],
   "source": [
    "df3=scaler.inverse_transform(df3).tolist()\n",
    "plt.plot(df3)"
   ]
  },
  {
   "cell_type": "code",
   "execution_count": null,
   "id": "f048d39b",
   "metadata": {},
   "outputs": [],
   "source": []
  }
 ],
 "metadata": {
  "kernelspec": {
   "display_name": "Python 3",
   "language": "python",
   "name": "python3"
  },
  "language_info": {
   "codemirror_mode": {
    "name": "ipython",
    "version": 3
   },
   "file_extension": ".py",
   "mimetype": "text/x-python",
   "name": "python",
   "nbconvert_exporter": "python",
   "pygments_lexer": "ipython3",
   "version": "3.8.8"
  }
 },
 "nbformat": 4,
 "nbformat_minor": 5
}
